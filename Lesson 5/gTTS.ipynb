{
  "nbformat": 4,
  "nbformat_minor": 0,
  "metadata": {
    "colab": {
      "name": "gTTS.ipynb",
      "provenance": [],
      "collapsed_sections": []
    },
    "kernelspec": {
      "name": "python3",
      "display_name": "Python 3"
    },
    "language_info": {
      "name": "python"
    }
  },
  "cells": [
    {
      "cell_type": "code",
      "metadata": {
        "colab": {
          "base_uri": "https://localhost:8080/"
        },
        "id": "k7NBAAL2DByL",
        "outputId": "c03da16f-ec3f-42cb-d5a9-a370b48e5dff"
      },
      "source": [
        "!pip install gTTS"
      ],
      "execution_count": 5,
      "outputs": [
        {
          "output_type": "stream",
          "name": "stdout",
          "text": [
            "Requirement already satisfied: gTTS in /usr/local/lib/python3.7/dist-packages (2.2.3)\n",
            "Requirement already satisfied: six in /usr/local/lib/python3.7/dist-packages (from gTTS) (1.15.0)\n",
            "Requirement already satisfied: click in /usr/local/lib/python3.7/dist-packages (from gTTS) (7.1.2)\n",
            "Requirement already satisfied: requests in /usr/local/lib/python3.7/dist-packages (from gTTS) (2.23.0)\n",
            "Requirement already satisfied: idna<3,>=2.5 in /usr/local/lib/python3.7/dist-packages (from requests->gTTS) (2.10)\n",
            "Requirement already satisfied: certifi>=2017.4.17 in /usr/local/lib/python3.7/dist-packages (from requests->gTTS) (2021.10.8)\n",
            "Requirement already satisfied: urllib3!=1.25.0,!=1.25.1,<1.26,>=1.21.1 in /usr/local/lib/python3.7/dist-packages (from requests->gTTS) (1.24.3)\n",
            "Requirement already satisfied: chardet<4,>=3.0.2 in /usr/local/lib/python3.7/dist-packages (from requests->gTTS) (3.0.4)\n",
            "Requirement already satisfied: SpeechRecognition in /usr/local/lib/python3.7/dist-packages (3.8.1)\n",
            "Requirement already satisfied: playsound in /usr/local/lib/python3.7/dist-packages (1.3.0)\n",
            "Collecting pyaudio\n",
            "  Downloading PyAudio-0.2.11.tar.gz (37 kB)\n",
            "Building wheels for collected packages: pyaudio\n",
            "  Building wheel for pyaudio (setup.py) ... \u001b[?25lerror\n",
            "\u001b[31m  ERROR: Failed building wheel for pyaudio\u001b[0m\n",
            "\u001b[?25h  Running setup.py clean for pyaudio\n",
            "Failed to build pyaudio\n",
            "Installing collected packages: pyaudio\n",
            "    Running setup.py install for pyaudio ... \u001b[?25l\u001b[?25herror\n",
            "\u001b[31mERROR: Command errored out with exit status 1: /usr/bin/python3 -u -c 'import io, os, sys, setuptools, tokenize; sys.argv[0] = '\"'\"'/tmp/pip-install-9q0bln12/pyaudio_181ca06b0bb348cea764864009d2afa7/setup.py'\"'\"'; __file__='\"'\"'/tmp/pip-install-9q0bln12/pyaudio_181ca06b0bb348cea764864009d2afa7/setup.py'\"'\"';f = getattr(tokenize, '\"'\"'open'\"'\"', open)(__file__) if os.path.exists(__file__) else io.StringIO('\"'\"'from setuptools import setup; setup()'\"'\"');code = f.read().replace('\"'\"'\\r\\n'\"'\"', '\"'\"'\\n'\"'\"');f.close();exec(compile(code, __file__, '\"'\"'exec'\"'\"'))' install --record /tmp/pip-record-1s93zdcu/install-record.txt --single-version-externally-managed --compile --install-headers /usr/local/include/python3.7/pyaudio Check the logs for full command output.\u001b[0m\n"
          ]
        }
      ]
    },
    {
      "cell_type": "code",
      "metadata": {
        "colab": {
          "base_uri": "https://localhost:8080/",
          "height": 61
        },
        "id": "ueL_0wSqDCnM",
        "outputId": "531851c5-4e99-4113-ebbc-3f5c8f19e8d9"
      },
      "source": [
        "from gtts import gTTS #Import Google Text to Speech\n",
        "from IPython.display import Audio #Import Audio method from IPython's Display Class\n",
        "\n",
        "tts = gTTS(\"Waveglow is really awesome!\") #Provide the string to convert to speech\n",
        "tts.save('1.wav') #save the string converted to speech as a .wav file\n",
        "sound_file = '1.wav'\n",
        "Audio(sound_file, autoplay=True) "
      ],
      "execution_count": 3,
      "outputs": [
        {
          "output_type": "execute_result",
          "data": {
            "text/html": [
              "\n",
              "                <audio controls=\"controls\" autoplay=\"autoplay\">\n",
              "                    <source src=\"data:audio/x-wav;base64,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\" type=\"audio/x-wav\" />\n",
              "                    Your browser does not support the audio element.\n",
              "                </audio>\n",
              "              "
            ],
            "text/plain": [
              "<IPython.lib.display.Audio object>"
            ]
          },
          "metadata": {},
          "execution_count": 3
        }
      ]
    },
    {
      "cell_type": "code",
      "metadata": {
        "id": "e1cDZY17DKkI"
      },
      "source": [
        ""
      ],
      "execution_count": null,
      "outputs": []
    }
  ]
}